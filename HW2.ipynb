{
 "cells": [
  {
   "cell_type": "code",
   "execution_count": 1,
   "metadata": {},
   "outputs": [
    {
     "name": "stdout",
     "output_type": "stream",
     "text": [
      "Project Manager---->PM\n",
      "Central Processing Unit---->CPU\n",
      "Graphics Processing Unit---->GPU\n",
      "Random Acess Memory---->RAM\n",
      "Input Output---->IO\n"
     ]
    }
   ],
   "source": [
    "names=['Project Manager','Central Processing Unit','Graphics Processing Unit',\n",
    "       'Random Acess Memory','Input Output']\n",
    "for name in names:\n",
    "    short_names=(p1[0] for p1 in name.split())\n",
    "    print(name,'---->',*short_names,sep='')"
   ]
  },
  {
   "cell_type": "code",
   "execution_count": 6,
   "metadata": {},
   "outputs": [
    {
     "name": "stdout",
     "output_type": "stream",
     "text": [
      "0\n",
      "1\n",
      "2\n",
      "3\n",
      "4\n",
      "5\n",
      "6\n",
      "7\n",
      "8\n",
      "9\n",
      "10\n"
     ]
    }
   ],
   "source": [
    "#Print First 10 natural numbers using while loop\n",
    "i=0\n",
    "while i<=10:\n",
    "    print(i,)\n",
    "    i+=1"
   ]
  },
  {
   "cell_type": "code",
   "execution_count": 8,
   "metadata": {},
   "outputs": [
    {
     "name": "stdout",
     "output_type": "stream",
     "text": [
      "55\n"
     ]
    }
   ],
   "source": [
    "#Calculate the sum of all numbers from 1 to a given number\n",
    "\n",
    "s=1,2,3,4,5,6,7,8,9,10\n",
    "total=sum(s)\n",
    "print(total)"
   ]
  },
  {
   "cell_type": "code",
   "execution_count": 27,
   "metadata": {},
   "outputs": [
    {
     "name": "stdout",
     "output_type": "stream",
     "text": [
      "2\n",
      "the table of this number is\n",
      "2 x 1 --> 2\n",
      "2 x 2 --> 4\n",
      "2 x 3 --> 6\n",
      "2 x 4 --> 8\n",
      "2 x 5 --> 10\n",
      "2 x 6 --> 12\n",
      "2 x 7 --> 14\n",
      "2 x 8 --> 16\n",
      "2 x 9 --> 18\n",
      "2 x 10 --> 20\n"
     ]
    }
   ],
   "source": [
    "#Write a program to print multiplication table of a given number\n",
    "\n",
    "a=int(input('Enter a number which table you want'))\n",
    "print(a)\n",
    "print('the table of this number is')\n",
    "b=1\n",
    "for i in range(10):\n",
    "      c=a*b\n",
    "      print(f'2 x {b} -->',c)\n",
    "      b=b+1\n",
    "    "
   ]
  },
  {
   "cell_type": "code",
   "execution_count": 30,
   "metadata": {},
   "outputs": [
    {
     "name": "stdout",
     "output_type": "stream",
     "text": [
      "0\n",
      "1\n",
      "2\n",
      "3\n",
      "4\n",
      "5\n",
      "6\n",
      "7\n",
      "8\n"
     ]
    }
   ],
   "source": [
    "#Display numbers from a list using loop\n",
    "s=[1,2,3,4,5,6,7,8,9]\n",
    "for s in range(len(s)):\n",
    "    print(s)\n",
    "    s=s+1"
   ]
  },
  {
   "cell_type": "code",
   "execution_count": 3,
   "metadata": {},
   "outputs": [
    {
     "name": "stdout",
     "output_type": "stream",
     "text": [
      "5\n"
     ]
    }
   ],
   "source": [
    "#Count the total number of digits in a number by count function\n",
    "import math\n",
    "import statistics\n",
    "\n",
    "a=(input('Enter any number'))\n",
    "x=len(a)\n",
    "print(x)"
   ]
  }
 ],
 "metadata": {
  "kernelspec": {
   "display_name": "Python 3.9.12 ('base')",
   "language": "python",
   "name": "python3"
  },
  "language_info": {
   "codemirror_mode": {
    "name": "ipython",
    "version": 3
   },
   "file_extension": ".py",
   "mimetype": "text/x-python",
   "name": "python",
   "nbconvert_exporter": "python",
   "pygments_lexer": "ipython3",
   "version": "3.9.12"
  },
  "orig_nbformat": 4,
  "vscode": {
   "interpreter": {
    "hash": "9d19b846c981df6691e2bdb59be634a7ebbdaac55797ba17323322a2d3a54045"
   }
  }
 },
 "nbformat": 4,
 "nbformat_minor": 2
}
