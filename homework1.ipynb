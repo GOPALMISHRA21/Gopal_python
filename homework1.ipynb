{
 "cells": [
  {
   "cell_type": "code",
   "execution_count": 1,
   "metadata": {},
   "outputs": [
    {
     "name": "stdout",
     "output_type": "stream",
     "text": [
      "Gopal Mishra\n"
     ]
    }
   ],
   "source": [
    "my_string=\"Gopal Mishra\"\n",
    "print(my_string)"
   ]
  },
  {
   "cell_type": "code",
   "execution_count": 5,
   "metadata": {},
   "outputs": [
    {
     "name": "stdout",
     "output_type": "stream",
     "text": [
      "13\n"
     ]
    }
   ],
   "source": [
    "m=input(\"enter your string\")\n",
    "print(len(m))"
   ]
  },
  {
   "cell_type": "code",
   "execution_count": 4,
   "metadata": {},
   "outputs": [
    {
     "name": "stdout",
     "output_type": "stream",
     "text": [
      " great\n",
      "great\n"
     ]
    }
   ],
   "source": [
    "m ='Python is great'\n",
    "slice1=m[9:]\n",
    "print(slice1)\n",
    "\n",
    "m2=m.split()[-1]\n",
    "print(m2)\n"
   ]
  },
  {
   "cell_type": "code",
   "execution_count": 5,
   "metadata": {},
   "outputs": [
    {
     "name": "stdout",
     "output_type": "stream",
     "text": [
      "Python\n",
      "is\n",
      "great\n"
     ]
    }
   ],
   "source": [
    "my_string = '''Python is great'''\n",
    "for word in my_string.split():\n",
    "    print(word)"
   ]
  },
  {
   "cell_type": "code",
   "execution_count": 7,
   "metadata": {},
   "outputs": [
    {
     "name": "stdout",
     "output_type": "stream",
     "text": [
      "dlroW olleH\n"
     ]
    },
    {
     "data": {
      "text/plain": [
       "'World Hello'"
      ]
     },
     "execution_count": 7,
     "metadata": {},
     "output_type": "execute_result"
    }
   ],
   "source": [
    "\n",
    "s='Hello World'\n",
    "slice1=s[::-1]\n",
    "print(slice1)\n",
    "\n",
    "\" \".join(s.split()[::-1])"
   ]
  },
  {
   "cell_type": "code",
   "execution_count": 42,
   "metadata": {},
   "outputs": [
    {
     "name": "stdout",
     "output_type": "stream",
     "text": [
      "HOW ARE YOU\n"
     ]
    }
   ],
   "source": [
    "my_string='How are you'\n",
    "result=my_string.upper()\n",
    "print(result)"
   ]
  },
  {
   "cell_type": "code",
   "execution_count": 43,
   "metadata": {},
   "outputs": [
    {
     "name": "stdout",
     "output_type": "stream",
     "text": [
      "how is it going?\n"
     ]
    }
   ],
   "source": [
    "m='How Is It Going?'\n",
    "result=m.lower()\n",
    "print(result)"
   ]
  },
  {
   "cell_type": "code",
   "execution_count": 8,
   "metadata": {},
   "outputs": [
    {
     "name": "stdout",
     "output_type": "stream",
     "text": [
      "Python(   )is(   )easy(   )to(   )learn\n"
     ]
    }
   ],
   "source": [
    "words = ['Python', 'is', 'easy', 'to', 'learn']\n",
    "result='(   )'.join(words)\n",
    "print(result)"
   ]
  },
  {
   "cell_type": "code",
   "execution_count": 59,
   "metadata": {},
   "outputs": [
    {
     "name": "stdout",
     "output_type": "stream",
     "text": [
      "Print a multiline string using a single print\n"
     ]
    }
   ],
   "source": [
    "words=\"\"\"Print a multiline string using a single print\"\"\"\n",
    "print(words)"
   ]
  },
  {
   "cell_type": "code",
   "execution_count": 15,
   "metadata": {},
   "outputs": [
    {
     "name": "stdout",
     "output_type": "stream",
     "text": [
      "to move to newline '\\n' is used\n"
     ]
    }
   ],
   "source": [
    "s=r\"to move to newline '\\n' is used\"    #r for raw string\n",
    "print(s)"
   ]
  },
  {
   "cell_type": "code",
   "execution_count": 67,
   "metadata": {},
   "outputs": [
    {
     "name": "stdout",
     "output_type": "stream",
     "text": [
      "the varible is 12\n"
     ]
    }
   ],
   "source": [
    "m=int(input('enter the variable'))\n",
    "print(f'the varible is {m}')\n"
   ]
  },
  {
   "cell_type": "code",
   "execution_count": 1,
   "metadata": {},
   "outputs": [
    {
     "name": "stdout",
     "output_type": "stream",
     "text": [
      "python  is  great.\n"
     ]
    }
   ],
   "source": [
    "s1 = 'python '\n",
    "s2 = 'is '\n",
    "s3 = 'great.'\n",
    "print(s1,s2,s3)"
   ]
  },
  {
   "cell_type": "code",
   "execution_count": 16,
   "metadata": {},
   "outputs": [
    {
     "data": {
      "text/plain": [
       "'####################'"
      ]
     },
     "execution_count": 16,
     "metadata": {},
     "output_type": "execute_result"
    }
   ],
   "source": [
    "'#' * 20"
   ]
  },
  {
   "cell_type": "code",
   "execution_count": 13,
   "metadata": {},
   "outputs": [
    {
     "name": "stdout",
     "output_type": "stream",
     "text": [
      "1 .\n",
      "2 .\n",
      "3 .\n",
      "4 .\n",
      "5 .\n",
      "6 .\n",
      "7 .\n",
      "8 .\n",
      "9 .\n"
     ]
    }
   ],
   "source": [
    "for i in range(1,10,1):\n",
    "    print(i,'.')"
   ]
  },
  {
   "cell_type": "code",
   "execution_count": 34,
   "metadata": {},
   "outputs": [
    {
     "name": "stdout",
     "output_type": "stream",
     "text": [
      "gopl\n"
     ]
    }
   ],
   "source": [
    "items=input(\"enter your sentence/n\")\n",
    "for word in items.split():\n",
    "    print(items)"
   ]
  },
  {
   "cell_type": "code",
   "execution_count": 26,
   "metadata": {},
   "outputs": [
    {
     "data": {
      "text/plain": [
       "36"
      ]
     },
     "execution_count": 26,
     "metadata": {},
     "output_type": "execute_result"
    }
   ],
   "source": [
    "m= '''The updated Google Search experience? was one of several changes\n",
    "the company announced today at its Search On? event. Google's own research\n",
    "showed that almost 40% of young?? people would often just search TikTok or\n",
    "Instagram to find a place to for lunch, ??instead of Google or Google Maps.\n",
    "'''\n",
    "m.find('/n?')"
   ]
  },
  {
   "cell_type": "code",
   "execution_count": 32,
   "metadata": {},
   "outputs": [
    {
     "data": {
      "text/plain": [
       "0"
      ]
     },
     "execution_count": 32,
     "metadata": {},
     "output_type": "execute_result"
    }
   ],
   "source": [
    "st=input(\"enter your sentance\")\n",
    "st.count('e')"
   ]
  },
  {
   "cell_type": "code",
   "execution_count": 19,
   "metadata": {},
   "outputs": [
    {
     "name": "stdout",
     "output_type": "stream",
     "text": [
      "it is not nmbr\n"
     ]
    }
   ],
   "source": [
    "from unicodedata import numeric\n",
    "\n",
    "\n",
    "msg=input('enter you want')\n",
    "if msg.isnumeric():\n",
    "    print(msg)\n",
    "else:\n",
    "    print(\"it is not nmbr\")"
   ]
  },
  {
   "cell_type": "code",
   "execution_count": 19,
   "metadata": {},
   "outputs": [
    {
     "name": "stdout",
     "output_type": "stream",
     "text": [
      "this is not a good string\n"
     ]
    }
   ],
   "source": [
    "text = '                                this is not a good string                '\n",
    "result=text.strip()\n",
    "print(result)"
   ]
  },
  {
   "cell_type": "code",
   "execution_count": 3,
   "metadata": {},
   "outputs": [
    {
     "name": "stdout",
     "output_type": "stream",
     "text": [
      "ENTER ANY STRING\n"
     ]
    }
   ],
   "source": [
    "from curses.ascii import isupper\n",
    "\n",
    "\n",
    "a=('enter any string')\n",
    "if a is \n"
   ]
  },
  {
   "cell_type": "code",
   "execution_count": null,
   "metadata": {},
   "outputs": [],
   "source": []
  },
  {
   "cell_type": "code",
   "execution_count": 22,
   "metadata": {},
   "outputs": [
    {
     "name": "stdout",
     "output_type": "stream",
     "text": [
      "Joe, David, Mark, Tom, Chris, Robert\n"
     ]
    }
   ],
   "source": [
    "names = 'Joe, David, Mark, Tom, Chris, Robert'\n",
    "names.split(' ')\n",
    "print(names)"
   ]
  },
  {
   "cell_type": "code",
   "execution_count": 27,
   "metadata": {},
   "outputs": [
    {
     "name": "stdout",
     "output_type": "stream",
     "text": [
      "thisayeisayesomeayetext\n",
      "thisaye isaye someaye textaye "
     ]
    }
   ],
   "source": [
    "text = 'this', 'is', 'some', 'text'\n",
    "result='aye'.join(text)\n",
    "print(result)\n",
    "\n",
    "\n",
    "text='this is some text'\n",
    "for word in text.split():\n",
    "    print(word+\"aye\",end=' ')"
   ]
  },
  {
   "cell_type": "code",
   "execution_count": 29,
   "metadata": {},
   "outputs": [
    {
     "name": "stdout",
     "output_type": "stream",
     "text": [
      " p34 y  -  t68h  on404\n"
     ]
    }
   ],
   "source": [
    "text = '%p34@y!*-*!t68h#&on404'\n",
    "spe='!@#$%^&*?<>'\n",
    "for char in spe:\n",
    "    text=text.replace(char,\" \")\n",
    "print(text)"
   ]
  },
  {
   "cell_type": "code",
   "execution_count": 21,
   "metadata": {},
   "outputs": [
    {
     "name": "stdout",
     "output_type": "stream",
     "text": [
      "found\n"
     ]
    }
   ],
   "source": [
    "data=input('any sentence')\n",
    "print(data)\n",
    "for c in data:\n",
    "    if c.isupper():\n",
    "        print(\"found\")"
   ]
  },
  {
   "cell_type": "code",
   "execution_count": 26,
   "metadata": {},
   "outputs": [
    {
     "name": "stdout",
     "output_type": "stream",
     "text": [
      "fyi found\n"
     ]
    }
   ],
   "source": [
    "s=input('enter any string')\n",
    "if 'fyi' in s.lower():\n",
    "    print(\"fyi found\")"
   ]
  },
  {
   "cell_type": "code",
   "execution_count": 38,
   "metadata": {},
   "outputs": [
    {
     "name": "stdout",
     "output_type": "stream",
     "text": [
      "average word seize--> 5\n"
     ]
    }
   ],
   "source": [
    "#25\n",
    "paragraph='this is a paragraph which is written just for the purpose of providing content to let the average word length be calculated'\n",
    "words=paragraph.split()\n",
    "total_word=len(words)\n",
    "wlt=0\n",
    "\n",
    "for word in words:\n",
    "    wlt +=len(word)\n",
    "print(\"average word seize-->\" ,round(wlt/total_word))"
   ]
  },
  {
   "cell_type": "code",
   "execution_count": 12,
   "metadata": {},
   "outputs": [
    {
     "name": "stdout",
     "output_type": "stream",
     "text": [
      "     ##################                 ############          ############           ###########         ##\n",
      "     ########                           ##        ##          ##        ##           ##       ##         ##\n",
      "     ########                           ##        ##          ##        ##           ##       ##         ##\n",
      "     ########                           ##        ##          ##        ##           ##       ##         ##\n",
      "     ########                           ##        ##          ############           ###########         ##\n",
      "     ########     #############         ##        ##          ##                     ##       ##         ##\n",
      "     ########     #####     ###         ##        ##          ##                     ##       ##         ##\n",
      "     ########     #####     ###         ##        ##          ##                     ##       ##         ##\n",
      "     #########    #####     ###         ##        ##          ##                     ##       ##         ##\n",
      "     ##################     ###         #############         ##                     ##       ##         ##############\n",
      "      \n"
     ]
    }
   ],
   "source": [
    "m='''     ##################                 ############          ############           ###########         ##\n",
    "     ########                           ##        ##          ##        ##           ##       ##         ##\n",
    "     ########                           ##        ##          ##        ##           ##       ##         ##\n",
    "     ########                           ##        ##          ##        ##           ##       ##         ##\n",
    "     ########                           ##        ##          ############           ###########         ##\n",
    "     ########     #############         ##        ##          ##                     ##       ##         ##\n",
    "     ########     #####     ###         ##        ##          ##                     ##       ##         ##\n",
    "     ########     #####     ###         ##        ##          ##                     ##       ##         ##\n",
    "     #########    #####     ###         ##        ##          ##                     ##       ##         ##\n",
    "     ##################     ###         #############         ##                     ##       ##         ##############\n",
    "      '''\n",
    "print(m)"
   ]
  }
 ],
 "metadata": {
  "kernelspec": {
   "display_name": "Python 3.9.12 ('base')",
   "language": "python",
   "name": "python3"
  },
  "language_info": {
   "codemirror_mode": {
    "name": "ipython",
    "version": 3
   },
   "file_extension": ".py",
   "mimetype": "text/x-python",
   "name": "python",
   "nbconvert_exporter": "python",
   "pygments_lexer": "ipython3",
   "version": "3.9.12"
  },
  "orig_nbformat": 4,
  "vscode": {
   "interpreter": {
    "hash": "9d19b846c981df6691e2bdb59be634a7ebbdaac55797ba17323322a2d3a54045"
   }
  }
 },
 "nbformat": 4,
 "nbformat_minor": 2
}
