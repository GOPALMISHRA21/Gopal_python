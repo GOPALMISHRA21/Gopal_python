{
 "cells": [
  {
   "cell_type": "code",
   "execution_count": 1,
   "metadata": {},
   "outputs": [],
   "source": [
    "x=['Ravi','Prakash',100,22,226022,'Lucknow','Reginal manager',True,False]\n",
    "\n",
    "data={'name':'Ravi Prakash','Eid': 100,'age':22,'pincode':226022,'city':'Lucknow','design':'General Manager',\n",
    "          'is_married':True,'have_children':True}"
   ]
  },
  {
   "cell_type": "code",
   "execution_count": 2,
   "metadata": {},
   "outputs": [
    {
     "name": "stdout",
     "output_type": "stream",
     "text": [
      "{'name': 'ravi Parkash', 'Eid': 100, 'age': 22, 'pincode': 226022, 'city': 'Lucknow', 'design': 'Regional manager', 'is_married': True, 'have_children': True}\n"
     ]
    }
   ],
   "source": [
    "print(data)"
   ]
  },
  {
   "cell_type": "code",
   "execution_count": 4,
   "metadata": {},
   "outputs": [
    {
     "data": {
      "text/plain": [
       "'Regional manager'"
      ]
     },
     "execution_count": 4,
     "metadata": {},
     "output_type": "execute_result"
    }
   ],
   "source": [
    "data['design']"
   ]
  },
  {
   "cell_type": "code",
   "execution_count": 10,
   "metadata": {},
   "outputs": [
    {
     "data": {
      "text/plain": [
       "{'name': 'Gopal Mishra',\n",
       " 'Eid': 100,\n",
       " 'age': 23,\n",
       " 'pincode': 226022,\n",
       " 'city': 'Lucknow',\n",
       " 'design': 'Data Analysis Manager',\n",
       " 'is_married': True,\n",
       " 'have_children': True}"
      ]
     },
     "execution_count": 10,
     "metadata": {},
     "output_type": "execute_result"
    }
   ],
   "source": [
    "data['age']=23\n",
    "data['name']='Gopal Mishra'\n",
    "data['design']='Data Analysis Manager'\n",
    "data"
   ]
  },
  {
   "cell_type": "code",
   "execution_count": 14,
   "metadata": {},
   "outputs": [
    {
     "data": {
      "text/plain": [
       "{'name': 'Gopal Mishra',\n",
       " 'Eid': 100,\n",
       " 'age': 23,\n",
       " 'pincode': 226022,\n",
       " 'city': 'Lucknow',\n",
       " 'design': 'Data Analysis Manager',\n",
       " 'is_married': True,\n",
       " 'have_children': True,\n",
       " 'dep[t': 'Analysis',\n",
       " 'dept': 'Analysis'}"
      ]
     },
     "execution_count": 14,
     "metadata": {},
     "output_type": "execute_result"
    }
   ],
   "source": [
    "data['dept']='Analysis'    # adding data\n",
    "data"
   ]
  },
  {
   "cell_type": "code",
   "execution_count": 15,
   "metadata": {},
   "outputs": [
    {
     "data": {
      "text/plain": [
       "True"
      ]
     },
     "execution_count": 15,
     "metadata": {},
     "output_type": "execute_result"
    }
   ],
   "source": [
    "data.pop('is_married')"
   ]
  },
  {
   "cell_type": "code",
   "execution_count": 16,
   "metadata": {},
   "outputs": [
    {
     "data": {
      "text/plain": [
       "{'name': 'Gopal Mishra',\n",
       " 'Eid': 100,\n",
       " 'age': 23,\n",
       " 'pincode': 226022,\n",
       " 'city': 'Lucknow',\n",
       " 'design': 'Data Analysis Manager',\n",
       " 'have_children': True,\n",
       " 'dep[t': 'Analysis',\n",
       " 'dept': 'Analysis'}"
      ]
     },
     "execution_count": 16,
     "metadata": {},
     "output_type": "execute_result"
    }
   ],
   "source": [
    "data"
   ]
  },
  {
   "cell_type": "code",
   "execution_count": 17,
   "metadata": {},
   "outputs": [
    {
     "name": "stdout",
     "output_type": "stream",
     "text": [
      "name\n",
      "Eid\n",
      "age\n",
      "pincode\n",
      "city\n",
      "design\n",
      "have_children\n",
      "dep[t\n",
      "dept\n"
     ]
    }
   ],
   "source": [
    "#basic loop example\n",
    "\n",
    "for i in data:\n",
    "    print(i)"
   ]
  },
  {
   "cell_type": "code",
   "execution_count": 18,
   "metadata": {},
   "outputs": [
    {
     "name": "stdout",
     "output_type": "stream",
     "text": [
      "name Gopal Mishra\n",
      "Eid 100\n",
      "age 23\n",
      "pincode 226022\n",
      "city Lucknow\n",
      "design Data Analysis Manager\n",
      "have_children True\n",
      "dep[t Analysis\n",
      "dept Analysis\n"
     ]
    }
   ],
   "source": [
    "# if you want variable with values\n",
    "\n",
    "for k,v in data.items():\n",
    "    print(k,v)"
   ]
  },
  {
   "cell_type": "code",
   "execution_count": 19,
   "metadata": {},
   "outputs": [
    {
     "name": "stdout",
     "output_type": "stream",
     "text": [
      "name Gopal Mishra\n",
      "Eid 100\n",
      "age 23\n",
      "pincode 226022\n",
      "city Lucknow\n",
      "design Data Analysis Manager\n",
      "have_children True\n",
      "dep[t Analysis\n",
      "dept Analysis\n"
     ]
    }
   ],
   "source": [
    "# this is also works\n",
    "for i in data:\n",
    "    print(i,data[i])"
   ]
  },
  {
   "cell_type": "code",
   "execution_count": 20,
   "metadata": {},
   "outputs": [
    {
     "name": "stdout",
     "output_type": "stream",
     "text": [
      "[1, 2, 3, 4, 5, 6, 7, 8, 9, 10]\n",
      "[2, 4, 6, 8, 10]\n"
     ]
    }
   ],
   "source": [
    "# odd index from alist\n",
    "x=[1,2,3,4,5,6,7,8,9,10]\n",
    "x_odd=x[1::2]\n",
    "print(x)\n",
    "print(x_odd)"
   ]
  },
  {
   "cell_type": "code",
   "execution_count": 22,
   "metadata": {},
   "outputs": [
    {
     "name": "stdout",
     "output_type": "stream",
     "text": [
      "{'maggie ': '28', 'butter': '48', 'paaav': '45', 'noodles': '65', 'refined': '1987'}\n"
     ]
    }
   ],
   "source": [
    "\n",
    "user_data={}\n",
    "for i in range(5):\n",
    "    key=input('enter name')\n",
    "    val=input('enter value')\n",
    "    user_data[key]=val\n",
    "print(user_data)"
   ]
  },
  {
   "cell_type": "code",
   "execution_count": 24,
   "metadata": {},
   "outputs": [
    {
     "data": {
      "text/plain": [
       "{'Raja': {'eng': [50, 80], 'hindi': [39, 50], 'maths': [39, 59]},\n",
       " 'Rani': {'eng': [29, 49], 'hindi': [40, 70], 'maths': [2, 1]}}"
      ]
     },
     "execution_count": 24,
     "metadata": {},
     "output_type": "execute_result"
    }
   ],
   "source": [
    "# store students marks in dictonary\n",
    "\n",
    "report={\n",
    "    'Raja':{\n",
    "        'eng':[50,80],\n",
    "        'hindi':[39,50],\n",
    "        'maths':[39,59]\n",
    "    },\n",
    "    'Rani':{\n",
    "        'eng':[29,49],\n",
    "        'hindi':[40,70],\n",
    "        'maths':[2,1]\n",
    "    }\n",
    "}\n",
    "report"
   ]
  },
  {
   "cell_type": "code",
   "execution_count": 26,
   "metadata": {},
   "outputs": [
    {
     "data": {
      "text/plain": [
       "{'Raja': {'eng': [50, 80],\n",
       "  'hindi': [39, 50],\n",
       "  'maths': [39, 59],\n",
       "  'Comp': [50, 90]},\n",
       " 'Rani': {'eng': [29, 49], 'hindi': [40, 70], 'maths': [2, 1]}}"
      ]
     },
     "execution_count": 26,
     "metadata": {},
     "output_type": "execute_result"
    }
   ],
   "source": [
    "report['Raja'][\"Comp\"]=[50,90]\n",
    "report"
   ]
  },
  {
   "cell_type": "code",
   "execution_count": 29,
   "metadata": {},
   "outputs": [
    {
     "data": {
      "text/plain": [
       "[40, 70]"
      ]
     },
     "execution_count": 29,
     "metadata": {},
     "output_type": "execute_result"
    }
   ],
   "source": [
    "report['Rani']['hindi']"
   ]
  },
  {
   "cell_type": "code",
   "execution_count": 30,
   "metadata": {},
   "outputs": [
    {
     "name": "stdout",
     "output_type": "stream",
     "text": [
      "Raja\n",
      "=>eng=[50, 80]\n",
      "=>hindi=[39, 50]\n",
      "=>maths=[39, 59]\n",
      "=>Comp=[50, 90]\n",
      "Rani\n",
      "=>eng=[29, 49]\n",
      "=>hindi=[40, 70]\n",
      "=>maths=[2, 1]\n"
     ]
    }
   ],
   "source": [
    "for name,marks in report.items():\n",
    "    print(name)\n",
    "    \n",
    "    "
   ]
  },
  {
   "cell_type": "code",
   "execution_count": null,
   "metadata": {},
   "outputs": [],
   "source": [
    "# wap to create a contact dictonary, which will have some names and phone numbers .The user can search for a name\n",
    "#through input if the name in the dictobnary then displays the phone number else ask the to user to add the numnber\n",
    " #   of the person by him/her Self   \n",
    "\n",
    " # contact={'police}:112"
   ]
  },
  {
   "cell_type": "code",
   "execution_count": 20,
   "metadata": {},
   "outputs": [
    {
     "ename": "SyntaxError",
     "evalue": "invalid syntax (2969545272.py, line 41)",
     "output_type": "error",
     "traceback": [
      "\u001b[1;36m  Input \u001b[1;32mIn [20]\u001b[1;36m\u001b[0m\n\u001b[1;33m    elif:\u001b[0m\n\u001b[1;37m    ^\u001b[0m\n\u001b[1;31mSyntaxError\u001b[0m\u001b[1;31m:\u001b[0m invalid syntax\n"
     ]
    }
   ],
   "source": [
    "\n",
    "digipodium_phonebook={\n",
    "    'Gopal':{\n",
    "        'Number':'9140530493'\n",
    "        },\n",
    "    'Police':{\n",
    "        'Number':'112'\n",
    "    },\n",
    "    'Ambulance':{\n",
    "        'Number':'119'\n",
    "    },\n",
    "    'Zaid_sir':{\n",
    "        'Number':'7860380291'\n",
    "    },\n",
    "    'Vikas':{\n",
    "        'Number':'7394980168'\n",
    "    },\n",
    "    'Anshika':{\n",
    "        'Number':'9519103458'\n",
    "    },\n",
    "    'Divyanshi_praveen_Nigam':\n",
    "    {\n",
    "        'Number':'8810770671'\n",
    "    },\n",
    "    'Toahid_Ansari':{\n",
    "        'Number':'9118154947'\n",
    "    },\n",
    "    'Shubhankar_Singh':{\n",
    "        'Number':'8577984118'\n",
    "    },\n",
    "    'Aasim_kasim':{\n",
    "        'Number':'7991553524'\n",
    "    },\n",
    "    'Kartikey':{\n",
    "        'Number':'7007290425'\n",
    "    }\n",
    "\n",
    "}\n",
    "name=input('Enter name which number you want:')\n",
    "if name in digipodium_phonebook:\n",
    "    print(name,digipodium_phonebook[name]['Number'])\n",
    "else:\n",
    "    print(\"you want to add details\")\n",
    "    print('y','n')\n",
    "    x=input('enter answer')\n",
    "    print(x)\n",
    "    if x==y:\n",
    "        num=input('Enter number')\n",
    "        digipodium_phonebook.update({name:{'Number':})\n",
    "        \n",
    "\n",
    "print('thank you')\n"
   ]
  },
  {
   "cell_type": "code",
   "execution_count": null,
   "metadata": {},
   "outputs": [],
   "source": [
    "def pythagoras():\n",
    "    per=int(input(\"Enter the perpendicular of the triangle\"))\n",
    "    base=int(input(\"enter the base  of the traingle\"))\n",
    "    hyp=(per**2)**0.5\n",
    "    print(hyp)\n",
    "\n",
    "    pythagoras()\n",
    "    pythagoras()"
   ]
  }
 ],
 "metadata": {
  "kernelspec": {
   "display_name": "Python 3.9.12 ('base')",
   "language": "python",
   "name": "python3"
  },
  "language_info": {
   "codemirror_mode": {
    "name": "ipython",
    "version": 3
   },
   "file_extension": ".py",
   "mimetype": "text/x-python",
   "name": "python",
   "nbconvert_exporter": "python",
   "pygments_lexer": "ipython3",
   "version": "3.9.12 (main, Apr  4 2022, 05:22:27) [MSC v.1916 64 bit (AMD64)]"
  },
  "orig_nbformat": 4,
  "vscode": {
   "interpreter": {
    "hash": "9d19b846c981df6691e2bdb59be634a7ebbdaac55797ba17323322a2d3a54045"
   }
  }
 },
 "nbformat": 4,
 "nbformat_minor": 2
}
