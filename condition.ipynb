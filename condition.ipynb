{
 "cells": [
  {
   "cell_type": "code",
   "execution_count": 2,
   "metadata": {},
   "outputs": [],
   "source": [
    "a=10\n",
    "b=3\n"
   ]
  },
  {
   "cell_type": "code",
   "execution_count": 4,
   "metadata": {},
   "outputs": [
    {
     "name": "stdout",
     "output_type": "stream",
     "text": [
      "Okay\n",
      "I understand\n"
     ]
    }
   ],
   "source": [
    "if a>b:\n",
    "    print(\"Okay\")\n",
    "    print(\"I understand\")\n",
    "    "
   ]
  },
  {
   "cell_type": "code",
   "execution_count": 4,
   "metadata": {},
   "outputs": [],
   "source": [
    "if a<5:\n",
    "    print(\"A is less than 5\")\n",
    "    print(\"Awesome\")\n",
    "    "
   ]
  },
  {
   "cell_type": "code",
   "execution_count": 12,
   "metadata": {},
   "outputs": [],
   "source": [
    "a=int(input(\"Enter a number:\"))\n",
    "if a>50:\n",
    "    print(f\"the value of A:{a}\")\n"
   ]
  },
  {
   "cell_type": "code",
   "execution_count": 5,
   "metadata": {},
   "outputs": [
    {
     "name": "stdout",
     "output_type": "stream",
     "text": [
      "Nice\n"
     ]
    }
   ],
   "source": [
    "if a>b:\n",
    "    print(\"Nice\")\n",
    "else:\n",
    "    print(\"bad\")\n",
    "    \n"
   ]
  },
  {
   "cell_type": "code",
   "execution_count": 19,
   "metadata": {},
   "outputs": [
    {
     "name": "stdout",
     "output_type": "stream",
     "text": [
      "6765 is odd\n"
     ]
    }
   ],
   "source": [
    "number=int(input(\"Enter a nummber\"))\n",
    "if number%2==0:\n",
    "    print(f\"{number} is even\")\n",
    "else:\n",
    "    print(f\"{number} is odd\")\n"
   ]
  },
  {
   "cell_type": "code",
   "execution_count": 24,
   "metadata": {},
   "outputs": [
    {
     "name": "stdout",
     "output_type": "stream",
     "text": [
      "35 is divisible by 5 and 7 both\n"
     ]
    }
   ],
   "source": [
    "# check is the numbers divisible  by 5 and 7\n",
    "number=int(input(\"Enter a nummber\"))\n",
    "if number%5==0 and number%7==0:\n",
    "    print(f\"{number} is divisible by 5 and 7 both\")\n",
    "else:\n",
    "    print(f\"{number} is not divisible by 5 and 7\")\n",
    "\n"
   ]
  },
  {
   "cell_type": "code",
   "execution_count": 6,
   "metadata": {},
   "outputs": [
    {
     "name": "stdout",
     "output_type": "stream",
     "text": [
      "goopL KI POOJA\n",
      "goopL KI POOJA\n",
      "goopL KI POOJA\n",
      "goopL KI POOJA\n",
      "goopL KI POOJA\n"
     ]
    }
   ],
   "source": [
    "for i in range(5):\n",
    "    print('goopL KI POOJA')"
   ]
  },
  {
   "cell_type": "code",
   "execution_count": 8,
   "metadata": {},
   "outputs": [
    {
     "name": "stdout",
     "output_type": "stream",
     "text": [
      "0123456789101112131415161718192021222324252627282930313233343536373839404142434445464748495051525354555657585960616263646566676869707172737475767778798081828384858687888990919293949596979899"
     ]
    }
   ],
   "source": [
    "i=1\n",
    "for i in range(100):\n",
    "    print(i)\n",
    "   i=+1"
   ]
  }
 ],
 "metadata": {
  "kernelspec": {
   "display_name": "Python 3.9.12 ('base')",
   "language": "python",
   "name": "python3"
  },
  "language_info": {
   "codemirror_mode": {
    "name": "ipython",
    "version": 3
   },
   "file_extension": ".py",
   "mimetype": "text/x-python",
   "name": "python",
   "nbconvert_exporter": "python",
   "pygments_lexer": "ipython3",
   "version": "3.9.12"
  },
  "orig_nbformat": 4,
  "vscode": {
   "interpreter": {
    "hash": "9d19b846c981df6691e2bdb59be634a7ebbdaac55797ba17323322a2d3a54045"
   }
  }
 },
 "nbformat": 4,
 "nbformat_minor": 2
}
