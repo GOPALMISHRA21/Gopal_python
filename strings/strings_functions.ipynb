{
 "cells": [
  {
   "cell_type": "code",
   "execution_count": 3,
   "metadata": {},
   "outputs": [],
   "source": [
    "msg = '''The updated Google Search experience was one of several changes\n",
    "the company announced today at its Search On event. Google's own research\n",
    "showed that almost 40% of young people would often just search TikTok or\n",
    "Instagram to find a place to for lunch, instead of Google or Google Maps.\n",
    "'''\n"
   ]
  },
  {
   "cell_type": "code",
   "execution_count": 3,
   "metadata": {},
   "outputs": [
    {
     "name": "stdout",
     "output_type": "stream",
     "text": [
      "total characters:285\n"
     ]
    }
   ],
   "source": [
    "chars = len(msg)\n",
    "print(f\"total characters:{chars}\")"
   ]
  },
  {
   "cell_type": "code",
   "execution_count": 4,
   "metadata": {},
   "outputs": [
    {
     "data": {
      "text/plain": [
       "-1"
      ]
     },
     "execution_count": 4,
     "metadata": {},
     "output_type": "execute_result"
    }
   ],
   "source": [
    "msg.find('expertive')"
   ]
  },
  {
   "cell_type": "code",
   "execution_count": 9,
   "metadata": {},
   "outputs": [
    {
     "data": {
      "text/plain": [
       "12"
      ]
     },
     "execution_count": 9,
     "metadata": {},
     "output_type": "execute_result"
    }
   ],
   "source": [
    "msg.find('Google')"
   ]
  },
  {
   "cell_type": "code",
   "execution_count": 12,
   "metadata": {},
   "outputs": [
    {
     "data": {
      "text/plain": [
       "\"experience was one of several changes\\nthe company announced today at its Search On event. Google's own research\\nshowed that almost 40% of young people would often just search TikTok or\\nInstagram to find a place to for lunch, instead of Google or Google Maps.\\n\""
      ]
     },
     "execution_count": 12,
     "metadata": {},
     "output_type": "execute_result"
    }
   ],
   "source": [
    "idx = msg.find('experience')\n",
    "msg[idx:]"
   ]
  },
  {
   "cell_type": "code",
   "execution_count": 15,
   "metadata": {},
   "outputs": [
    {
     "data": {
      "text/plain": [
       "\"experience was one of several changes\\nthe company announced today at its Search On event. Google's own research\\nshowed that almost 40% of young people would often just search TikTok or\\nInstagram to find a place to for lunch, instead of Google or Google Maps.\\n\""
      ]
     },
     "execution_count": 15,
     "metadata": {},
     "output_type": "execute_result"
    }
   ],
   "source": [
    "idx = msg.find('experience')\n",
    "msg[idx:]"
   ]
  },
  {
   "cell_type": "code",
   "execution_count": 16,
   "metadata": {},
   "outputs": [
    {
     "name": "stdout",
     "output_type": "stream",
     "text": [
      "The updated Google Search experience was one of several changes\n",
      "the company announced today at its Search On event. Google's own research\n",
      "showed that almost 40% of young people would often just search TikTok or\n",
      "Instagram to find a place to for lunch, instead of Google or Google Maps.\n",
      "\n"
     ]
    }
   ],
   "source": [
    "print(msg)"
   ]
  },
  {
   "cell_type": "code",
   "execution_count": 21,
   "metadata": {},
   "outputs": [
    {
     "name": "stdout",
     "output_type": "stream",
     "text": [
      "The updated Microsoft Search experience was one of several changes\n",
      "the company announced today at its Search On event. Microsoft's own research\n",
      "showed that almost 40% of young people would often just search TikTok or\n",
      "Instagram to find a place to for lunch, instead of Microsoft or Microsoft Maps.\n",
      "\n"
     ]
    }
   ],
   "source": [
    "result = msg.replace('Google',\"Microsoft\")\n",
    "print(result)"
   ]
  },
  {
   "cell_type": "code",
   "execution_count": null,
   "metadata": {},
   "outputs": [
    {
     "name": "stdout",
     "output_type": "stream",
     "text": [
      "Result =The updated Meta Rescue experience is one of several changes\n",
      "the company announced today at its Rescue On event. Meta's own research\n",
      "showed that almost 40% of young people would often just search TikTok or\n",
      "Instagram to find a place to for lunch, instead of Meta or Meta Maps.\n",
      "\n"
     ]
    }
   ],
   "source": [
    "\n",
    "result2=msg.replace('was','is').replace('Search',\"Rescue\").replace(\"Google\",\"Meta\")\n",
    "print(f\"Result ={result2}\")"
   ]
  },
  {
   "cell_type": "code",
   "execution_count": 24,
   "metadata": {},
   "outputs": [
    {
     "data": {
      "text/plain": [
       "20"
      ]
     },
     "execution_count": 24,
     "metadata": {},
     "output_type": "execute_result"
    }
   ],
   "source": [
    "msg.count('a')"
   ]
  },
  {
   "cell_type": "code",
   "execution_count": 25,
   "metadata": {},
   "outputs": [
    {
     "data": {
      "text/plain": [
       "4"
      ]
     },
     "execution_count": 25,
     "metadata": {},
     "output_type": "execute_result"
    }
   ],
   "source": [
    "msg.count('Google')"
   ]
  },
  {
   "cell_type": "code",
   "execution_count": 4,
   "metadata": {},
   "outputs": [
    {
     "name": "stdout",
     "output_type": "stream",
     "text": [
      "['The', 'updated', 'Google', 'Search', 'experience', 'was', 'one', 'of', 'several', 'changes', 'the', 'company', 'announced', 'today', 'at', 'its', 'Search', 'On', 'event.', \"Google's\", 'own', 'research', 'showed', 'that', 'almost', '40%', 'of', 'young', 'people', 'would', 'often', 'just', 'search', 'TikTok', 'or', 'Instagram', 'to', 'find', 'a', 'place', 'to', 'for', 'lunch,', 'instead', 'of', 'Google', 'or', 'Google', 'Maps.']\n"
     ]
    }
   ],
   "source": [
    "words=msg.split()\n",
    "print(words)"
   ]
  },
  {
   "cell_type": "code",
   "execution_count": 5,
   "metadata": {},
   "outputs": [
    {
     "name": "stdout",
     "output_type": "stream",
     "text": [
      "['The updated Google Search experience was one of several changes', \"the company announced today at its Search On event. Google's own research\", 'showed that almost 40% of young people would often just search TikTok or', 'Instagram to find a place to for lunch, instead of Google or Google Maps.']\n"
     ]
    }
   ],
   "source": [
    "lines=msg.splitlines()\n",
    "print(lines)"
   ]
  },
  {
   "cell_type": "code",
   "execution_count": 1,
   "metadata": {},
   "outputs": [
    {
     "ename": "NameError",
     "evalue": "name 'msg' is not defined",
     "output_type": "error",
     "traceback": [
      "\u001b[1;31m---------------------------------------------------------------------------\u001b[0m",
      "\u001b[1;31mNameError\u001b[0m                                 Traceback (most recent call last)",
      "\u001b[1;32mc:\\Users\\Hp\\OneDrive\\Documents\\digipodium_python\\strings\\strings_functions.ipynb Cell 14\u001b[0m in \u001b[0;36m<cell line: 1>\u001b[1;34m()\u001b[0m\n\u001b[1;32m----> <a href='vscode-notebook-cell:/c%3A/Users/Hp/OneDrive/Documents/digipodium_python/strings/strings_functions.ipynb#X16sZmlsZQ%3D%3D?line=0'>1</a>\u001b[0m msg\u001b[39m.\u001b[39msplit(\u001b[39m'\u001b[39m\u001b[39m,\u001b[39m\u001b[39m'\u001b[39m)\n",
      "\u001b[1;31mNameError\u001b[0m: name 'msg' is not defined"
     ]
    }
   ],
   "source": [
    "msg.split(',')"
   ]
  },
  {
   "cell_type": "code",
   "execution_count": 4,
   "metadata": {},
   "outputs": [
    {
     "name": "stdout",
     "output_type": "stream",
     "text": [
      "['Amar', 'Akbar', 'Antonty', 'Vijay', 'Deenath']\n",
      "name--> Amar\n",
      "name--> Akbar\n",
      "name--> Antonty\n",
      "name--> Vijay\n",
      "name--> Deenath\n"
     ]
    }
   ],
   "source": [
    "names =\"Amar,Akbar,Antonty,Vijay,Deenath\" #str\n",
    "name_list=names.split(',') #list\n",
    "print(name_list)\n",
    "for nm in name_list:\n",
    "    print('name-->',nm)"
   ]
  },
  {
   "cell_type": "code",
   "execution_count": 10,
   "metadata": {},
   "outputs": [
    {
     "name": "stdout",
     "output_type": "stream",
     "text": [
      "['gopal', 'mishra', 'pooja', 'mishra', 'gopal']\n"
     ]
    }
   ],
   "source": [
    "# split\n",
    "items =input(\"enter 5 items seprated by space\").split()\n",
    "print(items)"
   ]
  },
  {
   "cell_type": "code",
   "execution_count": 13,
   "metadata": {},
   "outputs": [
    {
     "name": "stdout",
     "output_type": "stream",
     "text": [
      "Python....... -m....... texblob\n",
      "Python.1 -m.1 texblob\n",
      "Python.this -m.this texblob\n"
     ]
    }
   ],
   "source": [
    "data_list=['Python','-m','texblob']\n",
    "result=\"....... \".join(data_list)\n",
    "print(result)\n",
    "result=\".1 \".join(data_list)\n",
    "print(result)\n",
    "result=\".this \".join(data_list)\n",
    "print(result)"
   ]
  },
  {
   "cell_type": "code",
   "execution_count": 14,
   "metadata": {},
   "outputs": [
    {
     "data": {
      "text/plain": [
       "\"THE UPDATED GOOGLE SEARCH EXPERIENCE WAS ONE OF SEVERAL CHANGES\\nTHE COMPANY ANNOUNCED TODAY AT ITS SEARCH ON EVENT. GOOGLE'S OWN RESEARCH\\nSHOWED THAT ALMOST 40% OF YOUNG PEOPLE WOULD OFTEN JUST SEARCH TIKTOK OR\\nINSTAGRAM TO FIND A PLACE TO FOR LUNCH, INSTEAD OF GOOGLE OR GOOGLE MAPS.\\n\""
      ]
     },
     "execution_count": 14,
     "metadata": {},
     "output_type": "execute_result"
    }
   ],
   "source": [
    "msg.upper()"
   ]
  },
  {
   "cell_type": "code",
   "execution_count": 15,
   "metadata": {},
   "outputs": [
    {
     "name": "stdout",
     "output_type": "stream",
     "text": [
      "THE UPDATED GOOGLE SEARCH EXPERIENCE WAS ONE OF SEVERAL CHANGES\n",
      "THE COMPANY ANNOUNCED TODAY AT ITS SEARCH ON EVENT. GOOGLE'S OWN RESEARCH\n",
      "SHOWED THAT ALMOST 40% OF YOUNG PEOPLE WOULD OFTEN JUST SEARCH TIKTOK OR\n",
      "INSTAGRAM TO FIND A PLACE TO FOR LUNCH, INSTEAD OF GOOGLE OR GOOGLE MAPS.\n",
      "\n"
     ]
    }
   ],
   "source": [
    "result=msg.upper()\n",
    "print(result)"
   ]
  },
  {
   "cell_type": "code",
   "execution_count": 16,
   "metadata": {},
   "outputs": [
    {
     "name": "stdout",
     "output_type": "stream",
     "text": [
      "The Updated Google Search Experience Was One Of Several Changes\n",
      "The Company Announced Today At Its Search On Event. Google'S Own Research\n",
      "Showed That Almost 40% Of Young People Would Often Just Search Tiktok Or\n",
      "Instagram To Find A Place To For Lunch, Instead Of Google Or Google Maps.\n",
      "\n"
     ]
    }
   ],
   "source": [
    "result=msg.title()\n",
    "print(result)"
   ]
  },
  {
   "cell_type": "code",
   "execution_count": 17,
   "metadata": {},
   "outputs": [
    {
     "name": "stdout",
     "output_type": "stream",
     "text": [
      "the updated google search experience was one of several changes\n",
      "the company announced today at its search on event. google's own research\n",
      "showed that almost 40% of young people would often just search tiktok or\n",
      "instagram to find a place to for lunch, instead of google or google maps.\n",
      "\n"
     ]
    }
   ],
   "source": [
    "result=msg.lower()\n",
    "print(result)"
   ]
  },
  {
   "cell_type": "code",
   "execution_count": 19,
   "metadata": {},
   "outputs": [
    {
     "name": "stdout",
     "output_type": "stream",
     "text": [
      "tHE UPDATED gOOGLE sEARCH EXPERIENCE WAS ONE OF SEVERAL CHANGES\n",
      "THE COMPANY ANNOUNCED TODAY AT ITS sEARCH oN EVENT. gOOGLE'S OWN RESEARCH\n",
      "SHOWED THAT ALMOST 40% OF YOUNG PEOPLE WOULD OFTEN JUST SEARCH tIKtOK OR\n",
      "iNSTAGRAM TO FIND A PLACE TO FOR LUNCH, INSTEAD OF gOOGLE OR gOOGLE mAPS.\n",
      "\n"
     ]
    }
   ],
   "source": [
    "result=msg.swapcase()\n",
    "print(result)"
   ]
  },
  {
   "cell_type": "code",
   "execution_count": 20,
   "metadata": {},
   "outputs": [
    {
     "name": "stdout",
     "output_type": "stream",
     "text": [
      "The updated Google Search experience was one of several changes\n",
      "the company announced today at its Search On event. Google's own research\n",
      "showed that almost 40% of young people would often just search TikTok or\n",
      "Instagram to find a place to for lunch, instead of Google or Google Maps.\n",
      "\n"
     ]
    }
   ],
   "source": [
    "result=msg.capitalize()\n",
    "print(msg)"
   ]
  },
  {
   "cell_type": "code",
   "execution_count": 23,
   "metadata": {},
   "outputs": [
    {
     "data": {
      "text/plain": [
       "\"tHE uPDATED gOOGLE sEARCH eXPERIENCE wAS oNE oF sEVERAL cHANGES\\ntHE cOMPANY aNNOUNCED tODAY aT iTS sEARCH oN eVENT. gOOGLE's oWN rESEARCH\\nsHOWED tHAT aLMOST 40% oF yOUNG pEOPLE wOULD oFTEN jUST sEARCH tIKTOK oR\\niNSTAGRAM tO fIND a pLACE tO fOR lUNCH, iNSTEAD oF gOOGLE oR gOOGLE mAPS.\\n\""
      ]
     },
     "execution_count": 23,
     "metadata": {},
     "output_type": "execute_result"
    }
   ],
   "source": [
    "(msg.title().swapcase().replace('google','MICROSOFT'))"
   ]
  },
  {
   "cell_type": "code",
   "execution_count": null,
   "metadata": {},
   "outputs": [],
   "source": []
  }
 ],
 "metadata": {
  "kernelspec": {
   "display_name": "Python 3.9.12 ('base')",
   "language": "python",
   "name": "python3"
  },
  "language_info": {
   "codemirror_mode": {
    "name": "ipython",
    "version": 3
   },
   "file_extension": ".py",
   "mimetype": "text/x-python",
   "name": "python",
   "nbconvert_exporter": "python",
   "pygments_lexer": "ipython3",
   "version": "3.9.12"
  },
  "orig_nbformat": 4,
  "vscode": {
   "interpreter": {
    "hash": "9d19b846c981df6691e2bdb59be634a7ebbdaac55797ba17323322a2d3a54045"
   }
  }
 },
 "nbformat": 4,
 "nbformat_minor": 2
}
